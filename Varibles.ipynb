{
 "cells": [
  {
   "cell_type": "markdown",
   "metadata": {},
   "source": [
    "# 变量\n",
    "\n",
    "tf.Variable 表示可通过对其运行操作来改变其值的张量。与 tf.Tensor 对象不同，tf.Variable 存在于单个 session.run 调用的上下文之外。具体 op 允许您读取和修改此张量的值。这些修改在多个 tf.Session 之间是可见的，因此对于一个 tf.Variable，多个工作器可以看到相同的值。\n",
    "\n",
    "## 创建变量"
   ]
  },
  {
   "cell_type": "code",
   "execution_count": 1,
   "metadata": {
    "collapsed": true
   },
   "outputs": [],
   "source": [
    "import tensorflow as tf"
   ]
  },
  {
   "cell_type": "code",
   "execution_count": 2,
   "metadata": {},
   "outputs": [
    {
     "name": "stdout",
     "output_type": "stream",
     "text": [
      "<tf.Variable 'my_variable:0' shape=(1, 2, 3) dtype=int32_ref>\n"
     ]
    }
   ],
   "source": [
    "my_variable = tf.get_variable(\n",
    "    name=\"my_variable\",\n",
    "    shape=[1,2,3],\n",
    "    dtype=tf.int32,\n",
    "    initializer=tf.zeros_initializer\n",
    ")\n",
    "print(my_variable)"
   ]
  },
  {
   "cell_type": "markdown",
   "metadata": {},
   "source": [
    "## 变量集合\n",
    "上面说到了，变量是存放到Session之外的，可以被多个Session看到，为了能让访问到变量，Tensorflow 提供了变量集合来存放变量的命名列表。\n",
    "TensorFLow中维护了一下几个变量集合\n",
    "\n",
    "|集合名称  |集合内容  |使用场景  |\n",
    "|:--------|:--------|:--------|\n",
    "|tf.GraphKeys.GLOBAL_VARIABLES|可以在多台设备间共享的变量|持久化TensorFlow模型|\n",
    "|tf.GraphKeys.LOCAL_VARIABLES|保存在本机上的变量|用于零时变量，计数器等|\n",
    "|tf.GraphKeys.TRAINABLE_VARIABLES|TensorFlow 将计算其梯度的变量|模型训练|\n",
    "|tf.GraphKeys.SUMMARIES|日志生成相关的张量|TensorFlow计算可视化|\n",
    "|tf.GraphKeys.QUEUE_RUNNERS|处理输入的QueueRunner|输入处理|\n",
    "|tf.GraphKeys.MOVING_AVERAGE_VARIABLES|所有计算了华东平均值的变量|计算滑动平均值|\n"
   ]
  },
  {
   "cell_type": "code",
   "execution_count": 3,
   "metadata": {},
   "outputs": [
    {
     "data": {
      "text/plain": [
       "[<tf.Variable 'my_local:0' shape=() dtype=float32_ref>]"
      ]
     },
     "execution_count": 3,
     "metadata": {},
     "output_type": "execute_result"
    }
   ],
   "source": [
    "# 在创建变量时，通过collections设置变量集合\n",
    "my_local = tf.get_variable(\"my_local\", shape=(),\n",
    "                           collections=[tf.GraphKeys.LOCAL_VARIABLES])\n",
    "\n",
    "non_trainable_var = tf.get_variable(\"non_trainable_var\", shape=(),\n",
    "                                   trainable=False)\n",
    "\n",
    "# 创建自定义集合\n",
    "tf.add_to_collection(\"my_col_name\", my_local)\n",
    "\n",
    "# 检索集合中的变量\n",
    "tf.get_collection(\"my_col_name\")"
   ]
  },
  {
   "cell_type": "markdown",
   "metadata": {},
   "source": [
    "## 设置放置方式"
   ]
  },
  {
   "cell_type": "code",
   "execution_count": 4,
   "metadata": {},
   "outputs": [],
   "source": [
    "#将变量放置到GPU上\n",
    "\n",
    "with tf.device(\"/device:GPU:0\"):\n",
    "    gpu_var = tf.get_variable(\"gpu_var\", [1])"
   ]
  },
  {
   "cell_type": "markdown",
   "metadata": {},
   "source": [
    "## 初始化变量\n",
    "变量必须经过初始化之后才能使用，使用keras等高级框架，可以帮助开发者自动初始化变量\n",
    "\n",
    "要在训练开始前一次性初始化所有可训练变量，请调用 tf.global_variables_initializer()。此函数会返回一个操作，负责初始化 tf.GraphKeys.GLOBAL_VARIABLES 集合中的所有变量。运行此操作会初始化所有变量。\n"
   ]
  },
  {
   "cell_type": "code",
   "execution_count": 5,
   "metadata": {},
   "outputs": [],
   "source": [
    "with tf.Session() as sess:\n",
    "    #单独初始化本地集合变量\n",
    "    sess.run(my_local.initializer) \n",
    "    #初始化 GLOBAL_VARIABLES 中的所有变量\n",
    "    sess.run(tf.global_variables_initializer()) "
   ]
  },
  {
   "cell_type": "markdown",
   "metadata": {},
   "source": [
    "## 使用变量\n",
    "\n",
    "* **变量赋值**： 使用 assgin、assign_add 方法\n",
    "* **读取变量值**: 使用 tf.Variable.read_value()"
   ]
  },
  {
   "cell_type": "code",
   "execution_count": 6,
   "metadata": {},
   "outputs": [
    {
     "name": "stdout",
     "output_type": "stream",
     "text": [
      "2.0\n",
      "z: 3.0\n"
     ]
    }
   ],
   "source": [
    "with tf.Session() as sess:\n",
    "    v = tf.get_variable(\"v\", shape=(), initializer=tf.zeros_initializer())\n",
    "    assignment = v.assign_add(1) # 0 + 1\n",
    "    w = v + 1\n",
    "    tf.global_variables_initializer().run()\n",
    "    sess.run(assignment)\n",
    "    print(assignment.eval())\n",
    "    with tf.control_dependencies([assignment]):\n",
    "        z = v.read_value()\n",
    "        print(\"z: {}\".format(z.eval()))"
   ]
  },
  {
   "cell_type": "markdown",
   "metadata": {},
   "source": [
    "## 共享变量\n",
    "TensorFlow 支持两种共享变量的方式：\n",
    "* 显式传递 tf.Variable 对象。\n",
    "* 在 tf.variable_scope 对象内隐式封装 tf.Variable 对象。\n"
   ]
  },
  {
   "cell_type": "code",
   "execution_count": 8,
   "metadata": {},
   "outputs": [],
   "source": [
    "def conv_relu(input, kernel_shape, bias_shape):\n",
    "    \"\"\"采用relu激活函数的卷积层\n",
    "    \"\"\"\n",
    "    weights = tf.get_variable(\"weights\", kernel_shape,\n",
    "                              initializer=tf.random_normal_initializer())\n",
    "    biases = tf.get_variable(\"biases\", bias_shape,\n",
    "                             initializer=tf.constant_initializer(0.0))\n",
    "    conv = tf.nn.conv2d(input, weights, strides=[1,1,1,1], padding=\"SAME\")\n",
    "    return tf.nn.relu(conv + biases)"
   ]
  },
  {
   "cell_type": "code",
   "execution_count": 9,
   "metadata": {},
   "outputs": [
    {
     "ename": "NameError",
     "evalue": "name 'my_image_filter' is not defined",
     "output_type": "error",
     "traceback": [
      "\u001b[0;31m---------------------------------------------------------------------------\u001b[0m",
      "\u001b[0;31mNameError\u001b[0m                                 Traceback (most recent call last)",
      "\u001b[0;32m<ipython-input-9-c0908788caae>\u001b[0m in \u001b[0;36m<module>\u001b[0;34m()\u001b[0m\n\u001b[1;32m      1\u001b[0m \u001b[0;31m# 使用 reuse=True 触发变量共享\u001b[0m\u001b[0;34m\u001b[0m\u001b[0;34m\u001b[0m\u001b[0m\n\u001b[1;32m      2\u001b[0m \u001b[0;32mwith\u001b[0m \u001b[0mtf\u001b[0m\u001b[0;34m.\u001b[0m\u001b[0mvariable_scope\u001b[0m\u001b[0;34m(\u001b[0m\u001b[0;34m\"model\"\u001b[0m\u001b[0;34m)\u001b[0m\u001b[0;34m:\u001b[0m\u001b[0;34m\u001b[0m\u001b[0m\n\u001b[0;32m----> 3\u001b[0;31m   \u001b[0moutput1\u001b[0m \u001b[0;34m=\u001b[0m \u001b[0mmy_image_filter\u001b[0m\u001b[0;34m(\u001b[0m\u001b[0minput1\u001b[0m\u001b[0;34m)\u001b[0m\u001b[0;34m\u001b[0m\u001b[0m\n\u001b[0m\u001b[1;32m      4\u001b[0m \u001b[0;32mwith\u001b[0m \u001b[0mtf\u001b[0m\u001b[0;34m.\u001b[0m\u001b[0mvariable_scope\u001b[0m\u001b[0;34m(\u001b[0m\u001b[0;34m\"model\"\u001b[0m\u001b[0;34m,\u001b[0m \u001b[0mreuse\u001b[0m\u001b[0;34m=\u001b[0m\u001b[0;32mTrue\u001b[0m\u001b[0;34m)\u001b[0m\u001b[0;34m:\u001b[0m\u001b[0;34m\u001b[0m\u001b[0m\n\u001b[1;32m      5\u001b[0m   \u001b[0moutput2\u001b[0m \u001b[0;34m=\u001b[0m \u001b[0mmy_image_filter\u001b[0m\u001b[0;34m(\u001b[0m\u001b[0minput2\u001b[0m\u001b[0;34m)\u001b[0m\u001b[0;34m\u001b[0m\u001b[0m\n",
      "\u001b[0;31mNameError\u001b[0m: name 'my_image_filter' is not defined"
     ]
    }
   ],
   "source": [
    "# 使用 reuse=True 触发变量共享\n",
    "with tf.variable_scope(\"model\"):\n",
    "  output1 = conv_relu(input1)\n",
    "with tf.variable_scope(\"model\", reuse=True):\n",
    "  output2 = conv_relu(input2)\n",
    "# scope.reuse_variables() 以触发重用\n",
    "with tf.variable_scope(\"model\") as scope:\n",
    "  output1 = my_image_filter(input1)\n",
    "  scope.reuse_variables()\n",
    "  output2 = my_image_filter(input2)"
   ]
  },
  {
   "cell_type": "code",
   "execution_count": null,
   "metadata": {
    "collapsed": true
   },
   "outputs": [],
   "source": []
  }
 ],
 "metadata": {
  "kernelspec": {
   "display_name": "Python 3",
   "language": "python",
   "name": "python3"
  },
  "language_info": {
   "codemirror_mode": {
    "name": "ipython",
    "version": 3
   },
   "file_extension": ".py",
   "mimetype": "text/x-python",
   "name": "python",
   "nbconvert_exporter": "python",
   "pygments_lexer": "ipython3",
   "version": "3.6.2"
  }
 },
 "nbformat": 4,
 "nbformat_minor": 2
}
