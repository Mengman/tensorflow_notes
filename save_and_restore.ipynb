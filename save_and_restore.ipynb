{
 "cells": [
  {
   "cell_type": "markdown",
   "metadata": {},
   "source": [
    "# 保存与恢复\n",
    "\n",
    "TensorFlow提供了 tf.train.Saver 类用来保存和恢复模型的方法。\n",
    "\n",
    "## 变量的保存与恢复\n",
    "\n",
    "### 保存变量\n",
    "tf.train.Saver.save 方法可以将变量保存到检查点文件中"
   ]
  },
  {
   "cell_type": "code",
   "execution_count": 1,
   "metadata": {
    "collapsed": true
   },
   "outputs": [],
   "source": [
    "import tensorflow as tf"
   ]
  },
  {
   "cell_type": "code",
   "execution_count": 2,
   "metadata": {},
   "outputs": [
    {
     "name": "stdout",
     "output_type": "stream",
     "text": [
      "v1: [ 1.  1.  1.]\n",
      "v2: [-1. -1. -1. -1. -1.]\n",
      "Model saved in path: model/model.ckpt\n"
     ]
    }
   ],
   "source": [
    "g1 = tf.Graph()\n",
    "\n",
    "with g1.as_default():\n",
    "    v1 = tf.get_variable(\"v1\", shape=[3], initializer=tf.zeros_initializer)\n",
    "    v2 = tf.get_variable(\"v2\", shape=[5], initializer=tf.zeros_initializer)\n",
    "    \n",
    "    inc_v1 = v1.assign(v1 + 1)\n",
    "    dec_v2 = v2.assign(v2 - 1)\n",
    "    \n",
    "    init_op = tf.global_variables_initializer()\n",
    "    \n",
    "    # Add ops to save and restore all the variables.\n",
    "    saver = tf.train.Saver()\n",
    "\n",
    "with tf.Session(graph=g1) as sess:\n",
    "    sess.run(init_op)\n",
    "    inc_v1.op.run()\n",
    "    dec_v2.op.run()\n",
    "    \n",
    "    print(\"v1: %s\" % v1.eval())\n",
    "    print(\"v2: %s\" % v2.eval())\n",
    "    \n",
    "    save_path = saver.save(sess, \"model/model.ckpt\")\n",
    "    print(\"Model saved in path: %s\" %save_path)"
   ]
  },
  {
   "cell_type": "markdown",
   "metadata": {},
   "source": [
    "### 变量恢复\n",
    "\n",
    "tf.train.Saver.restore 函数可以重检查点文件中恢复变量的值"
   ]
  },
  {
   "cell_type": "code",
   "execution_count": 3,
   "metadata": {},
   "outputs": [
    {
     "name": "stdout",
     "output_type": "stream",
     "text": [
      "INFO:tensorflow:Restoring parameters from model/model.ckpt\n",
      "v1: [ 1.  1.  1.]\n",
      "v2: [-1. -1. -1. -1. -1.]\n"
     ]
    }
   ],
   "source": [
    "g2 = tf.Graph()\n",
    "\n",
    "with g2.as_default():\n",
    "    v1 = tf.get_variable(\"v1\", shape=[3])\n",
    "    v2 = tf.get_variable(\"v2\", shape=[5])\n",
    "    \n",
    "    saver = tf.train.Saver()\n",
    "\n",
    "with tf.Session(graph=g2) as sess:\n",
    "    saver.restore(sess, \"model/model.ckpt\")\n",
    "    print(\"v1: %s\" % v1.eval())\n",
    "    print(\"v2: %s\" % v2.eval())"
   ]
  },
  {
   "cell_type": "code",
   "execution_count": null,
   "metadata": {
    "collapsed": true
   },
   "outputs": [],
   "source": []
  }
 ],
 "metadata": {
  "kernelspec": {
   "display_name": "Python 3",
   "language": "python",
   "name": "python3"
  },
  "language_info": {
   "codemirror_mode": {
    "name": "ipython",
    "version": 3
   },
   "file_extension": ".py",
   "mimetype": "text/x-python",
   "name": "python",
   "nbconvert_exporter": "python",
   "pygments_lexer": "ipython3",
   "version": "3.6.2"
  }
 },
 "nbformat": 4,
 "nbformat_minor": 2
}
