{
 "cells": [
  {
   "cell_type": "code",
   "execution_count": 1,
   "metadata": {},
   "outputs": [],
   "source": [
    "import numpy as np\n",
    "import tensorflow as tf\n",
    "import matplotlib.pyplot as plt\n",
    "from sklearn.metrics import accuracy_score\n",
    "\n",
    "from utils import gen_cls_data\n",
    "\n",
    "np.random.seed(456)\n",
    "tf.set_random_seed(456)\n",
    "%matplotlib inline"
   ]
  },
  {
   "cell_type": "code",
   "execution_count": 3,
   "metadata": {},
   "outputs": [],
   "source": [
    "N = 100\n",
    "w_true = 5\n",
    "b_true = 2\n",
    "noise_scale = .1\n",
    "\n",
    "x_np, y_np = gen_cls_data()"
   ]
  },
  {
   "cell_type": "code",
   "execution_count": 13,
   "metadata": {},
   "outputs": [
    {
     "data": {
      "text/plain": [
       "<matplotlib.collections.PathCollection at 0x7f3514462278>"
      ]
     },
     "execution_count": 13,
     "metadata": {},
     "output_type": "execute_result"
    },
    {
     "data": {
      "image/png": "[encoded data removed]",
      "text/plain": [
       "<Figure size 432x288 with 1 Axes>"
      ]
     },
     "metadata": {},
     "output_type": "display_data"
    }
   ],
   "source": [
    "plt.xlabel(\"Dimension 1\")\n",
    "plt.ylabel(\"Dimension 2\")\n",
    "\n",
    "plt.title(\"FCNet Classification Data\")\n",
    "\n",
    "plt.scatter(x_np[:50,0], x_np[:50, 1], color=\"blue\")\n",
    "plt.scatter(x_np[50:,0], x_np[50:, 1], color=\"red\")"
   ]
  },
  {
   "cell_type": "code",
   "execution_count": 14,
   "metadata": {},
   "outputs": [],
   "source": [
    "d = 2\n",
    "n_hidden = 15\n",
    "\n",
    "with tf.name_scope(\"placeholders\"):\n",
    "    x = tf.placeholder(tf.float32, (N, d))\n",
    "    y = tf.placeholder(tf.float32, (N,))\n",
    "    \n",
    "with tf.name_scope(\"layer1\"):\n",
    "    W = tf.Variable(tf.random_normal((d, n_hidden)))\n",
    "    b = tf.Variable(tf.random_normal((n_hidden,)))\n",
    "    x_1 = tf.nn.relu(tf.matmul(x, W) + b)\n",
    "\n",
    "with tf.name_scope(\"output\"):\n",
    "    W = tf.Variable(tf.random_normal((n_hidden, 1)))\n",
    "    b = tf.Variable(tf.random_normal((1,)))\n",
    "    y_logit = tf.squeeze(tf.matmul(x_1, W) + b)\n",
    "    \n",
    "    y_one_prob = tf.sigmoid(y_logit)\n",
    "    y_pred = tf.round(y_one_prob)\n",
    "    \n",
    "with tf.name_scope(\"loss\"):\n",
    "    entropy = tf.nn.sigmoid_cross_entropy_with_logits(logits=y_logit, labels=y)\n",
    "    l = tf.reduce_sum(entropy)\n",
    "    \n",
    "with tf.name_scope(\"optim\"):\n",
    "    train_op = tf.train.AdamOptimizer(.001).minimize(l)\n",
    "\n",
    "with tf.name_scope(\"summaries\"):\n",
    "    tf.summary.scalar(\"loss\", l)\n",
    "    merged = tf.summary.merge_all()\n",
    "    \n",
    "train_writer = tf.summary.FileWriter('/tmp/fcnet-classification-train',\n",
    "                                     tf.get_default_graph())"
   ]
  },
  {
   "cell_type": "code",
   "execution_count": 15,
   "metadata": {},
   "outputs": [
    {
     "name": "stdout",
     "output_type": "stream",
     "text": [
      "step 0, loss: 150.982986\n",
      "step 10, loss: 140.109894\n",
      "step 20, loss: 129.373962\n",
      "step 30, loss: 118.745293\n",
      "step 40, loss: 108.343704\n",
      "step 50, loss: 98.225418\n",
      "step 60, loss: 88.204369\n",
      "step 70, loss: 78.404312\n",
      "step 80, loss: 69.005043\n",
      "step 90, loss: 60.408382\n",
      "step 100, loss: 52.704987\n",
      "step 110, loss: 45.793648\n",
      "step 120, loss: 39.622864\n",
      "step 130, loss: 34.294670\n",
      "step 140, loss: 29.841303\n",
      "step 150, loss: 26.102051\n",
      "step 160, loss: 22.849522\n",
      "step 170, loss: 20.040733\n",
      "step 180, loss: 17.707418\n",
      "step 190, loss: 15.781921\n",
      "Classification Accuracy: 1.000000\n"
     ]
    }
   ],
   "source": [
    "n_steps = 200\n",
    "with tf.Session() as sess:\n",
    "  sess.run(tf.global_variables_initializer())\n",
    "  # Train model\n",
    "  for i in range(n_steps):\n",
    "    feed_dict = {x: x_np, y: y_np}\n",
    "    _, summary, loss = sess.run([train_op, merged, l], feed_dict=feed_dict)\n",
    "    if i % 10 == 0: print(\"step %d, loss: %f\" % (i, loss))\n",
    "    train_writer.add_summary(summary, i)\n",
    "\n",
    "  # Make Predictions\n",
    "  y_pred_np = sess.run(y_pred, feed_dict={x: x_np})\n",
    "\n",
    "score = accuracy_score(y_np, y_pred_np)\n",
    "print(\"Classification Accuracy: %f\" % score)"
   ]
  },
  {
   "cell_type": "code",
   "execution_count": null,
   "metadata": {},
   "outputs": [],
   "source": []
  }
 ],
 "metadata": {
  "kernelspec": {
   "display_name": "Python 3",
   "language": "python",
   "name": "python3"
  },
  "language_info": {
   "codemirror_mode": {
    "name": "ipython",
    "version": 3
   },
   "file_extension": ".py",
   "mimetype": "text/x-python",
   "name": "python",
   "nbconvert_exporter": "python",
   "pygments_lexer": "ipython3",
   "version": "3.6.6"
  }
 },
 "nbformat": 4,
 "nbformat_minor": 2
}
