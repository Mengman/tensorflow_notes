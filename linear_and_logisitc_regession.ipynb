{
 "cells": [
  {
   "cell_type": "code",
   "execution_count": 1,
   "metadata": {},
   "outputs": [],
   "source": [
    "import tensorflow as tf\n",
    "import numpy as np\n",
    "from matplotlib import pyplot as plt\n",
    "np.random.seed(456)\n",
    "tf.set_random_seed(456)\n",
    "%matplotlib inline"
   ]
  },
  {
   "cell_type": "code",
   "execution_count": 2,
   "metadata": {},
   "outputs": [],
   "source": [
    "N = 100\n",
    "w_true = 5\n",
    "b_true = 2\n",
    "noise_scale = .1\n",
    "# x_np = np.random.rand(N, 1).astype(dtype=np.float32)\n",
    "x_np = np.random.rand(N, 1)\n",
    "noise = np.random.normal(scale=noise_scale, size=(N, 1))\n",
    "y_np = np.reshape(w_true * x_np + b_true + noise, (-1))"
   ]
  },
  {
   "cell_type": "code",
   "execution_count": 3,
   "metadata": {},
   "outputs": [],
   "source": [
    "with tf.name_scope(\"placeholders\"):\n",
    "    x = tf.placeholder(tf.float32, (N, 1))\n",
    "    y = tf.placeholder(tf.float32, (N))\n",
    "\n",
    "with tf.name_scope(\"weights\"):\n",
    "    W = tf.Variable(tf.random_normal((1,1)), name=\"w\")\n",
    "    b = tf.Variable(tf.random_normal((1,)), name=\"b\")\n",
    "    \n",
    "with tf.name_scope(\"prediction\"):\n",
    "    y_pred = tf.matmul(x, W) + b\n",
    "\n",
    "with tf.name_scope(\"loss\"):\n",
    "    l = tf.reduce_sum((y-tf.squeeze(y_pred))**2)\n",
    "\n",
    "with tf.name_scope(\"optim\"):\n",
    "    train_op = tf.train.AdamOptimizer(.001).minimize(l)\n",
    "\n",
    "with tf.name_scope(\"summaries\"):\n",
    "    tf.summary.scalar(\"loss\", l)\n",
    "    merged = tf.summary.merge_all()\n",
    "\n",
    "train_writer = tf.summary.FileWriter('/tmp/lr-train', tf.get_default_graph())"
   ]
  },
  {
   "cell_type": "code",
   "execution_count": 4,
   "metadata": {
    "scrolled": true
   },
   "outputs": [
    {
     "name": "stdout",
     "output_type": "stream",
     "text": [
      "step 0, loss: 2621.653564\n",
      "step 1000, loss: 1378.520386\n",
      "step 2000, loss: 630.408203\n",
      "step 3000, loss: 232.164062\n",
      "step 4000, loss: 65.039459\n",
      "step 5000, loss: 19.653280\n",
      "step 6000, loss: 12.029984\n",
      "step 7000, loss: 8.460009\n",
      "step 8000, loss: 5.058216\n",
      "step 9000, loss: 2.579878\n",
      "w_true: 5 W: 4.765114\n",
      "b_true: 2 b: 2.123778\n"
     ]
    }
   ],
   "source": [
    "n_steps = 10000\n",
    "\n",
    "with tf.Session() as sess:\n",
    "    sess.run(tf.global_variables_initializer())\n",
    "\n",
    "    for i in range(n_steps):\n",
    "        feed_dict = {x: x_np, y: y_np}\n",
    "        _, summary, loss = sess.run([train_op, merged, l], feed_dict=feed_dict)\n",
    "        if i % 1000 == 0:\n",
    "            print(\"step %d, loss: %f\" % (i, loss))\n",
    "        train_writer.add_summary(summary, i)\n",
    "    \n",
    "    W_final, b_final = sess.run([W, b])\n",
    "    print(\"w_true: 5 W: %f\" % W_final)\n",
    "    print(\"b_true: 2 b: %f\" % b_final)"
   ]
  },
  {
   "cell_type": "code",
   "execution_count": 7,
   "metadata": {},
   "outputs": [],
   "source": [
    "x_zeros = np.random.multivariate_normal(mean=np.array((-1,-1)), cov=.1*np.eye(2), size=(N//2,))\n",
    "y_zeros = np.zeros((N//2,))\n",
    "\n",
    "x_ones = np.random.multivariate_normal(mean=np.array((1,1)), cov=.1*np.eye(2), size=(N//2,))\n",
    "y_ones = np.ones((N//2,))\n",
    "\n",
    "x_l = np.vstack([x_zeros, x_ones])\n",
    "y_l = np.concatenate([y_zeros, y_ones])"
   ]
  },
  {
   "cell_type": "code",
   "execution_count": 4,
   "metadata": {},
   "outputs": [
    {
     "data": {
      "image/png": "[encoded data removed]",
      "text/plain": [
       "<matplotlib.figure.Figure at 0x7fd465541b38>"
      ]
     },
     "metadata": {},
     "output_type": "display_data"
    }
   ],
   "source": [
    "plt.xlabel(r\"$x_1$\")\n",
    "plt.ylabel(r\"$x_2$\")\n",
    "plt.title(\"Toy Logistic Regression Data\")\n",
    "\n",
    "plt.scatter(x_zeros[:, 0], x_zeros[:, 1], color=\"blue\")\n",
    "plt.scatter(x_ones[:, 0], x_ones[:, 1], color=\"red\")\n",
    "plt.show()"
   ]
  },
  {
   "cell_type": "code",
   "execution_count": 5,
   "metadata": {},
   "outputs": [],
   "source": [
    "with tf.name_scope(\"placeholders\"):\n",
    "    x = tf.placeholder(tf.float32, (N, 2))\n",
    "    y = tf.placeholder(tf.float32, (N,))\n",
    "    \n",
    "with tf.name_scope(\"weights\"):\n",
    "    W = tf.Variable(tf.random_normal((2,1)))\n",
    "    b = tf.Variable(tf.random_normal((1,)))\n",
    "\n",
    "with tf.name_scope(\"prediction\"):\n",
    "    y_logit = tf.squeeze(tf.matmul(x, W) + b)\n",
    "    y_one_prob = tf.sigmoid(y_logit)\n",
    "    y_pred = tf.round(y_one_prob)\n",
    "\n",
    "with tf.name_scope(\"loss\"):\n",
    "    entropy = tf.nn.sigmoid_cross_entropy_with_logits(logits=y_logit, labels=y)\n",
    "    l = tf.reduce_sum(entropy)\n",
    "\n",
    "with tf.name_scope(\"optim\"):\n",
    "    train_op = tf.train.AdamOptimizer(0.01).minimize(l)\n",
    "\n",
    "with tf.name_scope(\"summaries\"):\n",
    "    tf.summary.scalar(\"loss_logit\", l)\n",
    "    merged = tf.summary.merge_all()\n",
    "\n",
    "train_writer = tf.summary.FileWriter(\"/tmp/logistic-train\", tf.get_default_graph())"
   ]
  },
  {
   "cell_type": "code",
   "execution_count": 9,
   "metadata": {},
   "outputs": [
    {
     "name": "stdout",
     "output_type": "stream",
     "text": [
      "loss: 32.260105\n",
      "loss: 8.211011\n",
      "loss: 4.180475\n",
      "loss: 2.656193\n",
      "loss: 1.884815\n",
      "loss: 1.428922\n",
      "loss: 1.131943\n",
      "loss: 0.925124\n",
      "loss: 0.773913\n",
      "loss: 0.659188\n"
     ]
    }
   ],
   "source": [
    "n_steps = 1000\n",
    "\n",
    "with tf.Session() as sess:\n",
    "    sess.run(tf.global_variables_initializer())\n",
    "    \n",
    "    for i in range(n_steps):\n",
    "        feed_dict = {x: x_l, y: y_l}\n",
    "        _, summary, loss = sess.run([train_op, merged, l], feed_dict=feed_dict)\n",
    "        if i % 100 == 0:\n",
    "            print(\"loss: %f\" % loss)\n",
    "        train_writer.add_summary(summary)"
   ]
  },
  {
   "cell_type": "code",
   "execution_count": null,
   "metadata": {},
   "outputs": [],
   "source": []
  }
 ],
 "metadata": {
  "kernelspec": {
   "display_name": "Python 3",
   "language": "python",
   "name": "python3"
  },
  "language_info": {
   "codemirror_mode": {
    "name": "ipython",
    "version": 3
   },
   "file_extension": ".py",
   "mimetype": "text/x-python",
   "name": "python",
   "nbconvert_exporter": "python",
   "pygments_lexer": "ipython3",
   "version": "3.6.2"
  }
 },
 "nbformat": 4,
 "nbformat_minor": 2
}
