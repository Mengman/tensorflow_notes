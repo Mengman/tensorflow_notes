{
 "cells": [
  {
   "cell_type": "code",
   "execution_count": 1,
   "metadata": {
    "collapsed": true
   },
   "outputs": [],
   "source": [
    "import tensorflow as tf"
   ]
  },
  {
   "cell_type": "markdown",
   "metadata": {
    "collapsed": true
   },
   "source": [
    "# Tensorflow 中的基本概念\n",
    "\n",
    "## 张量\n",
    "张量在机器学习中特指坐标超过两维的数组 $A_{i,j,k}$ \n",
    "tensorflow 中使用 tf.Tensor 对象来管理张量，tf.Tensor 包含了两个属性：\n",
    "* 数据类型 (float32, int32, string 等)\n",
    "* 数据的维度信息\n",
    "\n",
    "TensorFlow中有四种特殊的张量对象：\n",
    "* tf.Variable\n",
    "* tf.constant\n",
    "* tf.placeholder\n",
    "* tf.SparseTensor\n",
    "\n",
    "### Rank\n",
    "Rank指代 tf.Tensor 的维度数\n",
    "\n",
    "|Rank|数学实体|\n",
    "|:-------|:--------|\n",
    "|0|标量(Scalar)|\n",
    "|1|向量(Vector)|\n",
    "|2|矩阵(Matrix)|\n",
    "|3|3阶-张量(Tensor)|\n",
    "|4|4阶-张量(Tensor)|\n",
    "\n",
    "### 调整张量形状\n",
    "使用 tf.reshape() 函数改变tf.tensor 的形状"
   ]
  },
  {
   "cell_type": "code",
   "execution_count": 7,
   "metadata": {
    "collapsed": true
   },
   "outputs": [],
   "source": [
    "# reshape tensor\n",
    "g4 = tf.Graph()\n",
    "with g4.as_default():\n",
    "    rank_three_tensor = tf.ones([3, 4, 5])\n",
    "    matrix = tf.reshape(rank_three_tensor, [6, 10])\n",
    "    matrixB = tf.reshape(rank_three_tensor, [3, -1]) # -1 代表让tensorflow 计算该维度"
   ]
  },
  {
   "cell_type": "markdown",
   "metadata": {},
   "source": [
    "### 张量估值\n",
    "使用　tf.Tensor　的eval()方法可以对张量进行估值"
   ]
  },
  {
   "cell_type": "code",
   "execution_count": 8,
   "metadata": {},
   "outputs": [
    {
     "name": "stdout",
     "output_type": "stream",
     "text": [
      "[1 4 9]\n"
     ]
    }
   ],
   "source": [
    "with tf.Session(graph=g4) as sess:\n",
    "    constant = tf.constant([1,2,3])\n",
    "    tensor = constant * constant\n",
    "    print(tensor.eval())"
   ]
  },
  {
   "cell_type": "markdown",
   "metadata": {},
   "source": [
    "### 打印张量\n",
    "使用Python的print方法打印出来的是tf.Tensor对象，要打印tf.Tensor内容需要使用tf.Print操作。"
   ]
  },
  {
   "cell_type": "code",
   "execution_count": 16,
   "metadata": {},
   "outputs": [
    {
     "name": "stdout",
     "output_type": "stream",
     "text": [
      "Tensor(\"Print_4:0\", shape=(3,), dtype=int32)\n",
      "[ 2  5 10]\n"
     ]
    }
   ],
   "source": [
    "with tf.Session(graph=g4) as sess:\n",
    "    print(tensor)\n",
    "    tensor = tf.Print(tensor, [tensor], \"test print\") # 会在jupyter的日志中打印出来\n",
    "    result = tensor + 1\n",
    "    print(result.eval())"
   ]
  },
  {
   "cell_type": "code",
   "execution_count": null,
   "metadata": {
    "collapsed": true
   },
   "outputs": [],
   "source": []
  }
 ],
 "metadata": {
  "kernelspec": {
   "display_name": "Python 3",
   "language": "python",
   "name": "python3"
  },
  "language_info": {
   "codemirror_mode": {
    "name": "ipython",
    "version": 3
   },
   "file_extension": ".py",
   "mimetype": "text/x-python",
   "name": "python",
   "nbconvert_exporter": "python",
   "pygments_lexer": "ipython3",
   "version": "3.6.5"
  }
 },
 "nbformat": 4,
 "nbformat_minor": 2
}
