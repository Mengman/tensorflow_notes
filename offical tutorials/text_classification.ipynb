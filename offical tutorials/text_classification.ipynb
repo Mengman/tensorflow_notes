{
 "cells": [
  {
   "cell_type": "code",
   "execution_count": 20,
   "metadata": {},
   "outputs": [],
   "source": [
    "import tensorflow as tf\n",
    "from tensorflow import keras\n",
    "import imdb\n",
    "\n",
    "import numpy as np\n",
    "import matplotlib.pyplot as plt\n",
    "\n",
    "%matplotlib inline"
   ]
  },
  {
   "cell_type": "code",
   "execution_count": 2,
   "metadata": {},
   "outputs": [],
   "source": [
    "(train_data, train_labels), (test_data, test_labels) = imdb.load_data(path=\"/home/ycli/code/tensorflow_notes/offical tutorials/datasets/imdb/imdb.npz\", num_words=10000)"
   ]
  },
  {
   "cell_type": "code",
   "execution_count": 3,
   "metadata": {},
   "outputs": [
    {
     "name": "stdout",
     "output_type": "stream",
     "text": [
      "Training entries: 25000, labels: 25000\n"
     ]
    }
   ],
   "source": [
    "print(\"Training entries: {}, labels: {}\".format(len(train_data), len(train_labels)))"
   ]
  },
  {
   "cell_type": "code",
   "execution_count": 4,
   "metadata": {},
   "outputs": [
    {
     "name": "stdout",
     "output_type": "stream",
     "text": [
      "[1, 14, 22, 16, 43, 530, 973, 1622, 1385, 65, 458, 4468, 66, 3941, 4, 173, 36, 256, 5, 25, 100, 43, 838, 112, 50, 670, 2, 9, 35, 480, 284, 5, 150, 4, 172, 112, 167, 2, 336, 385, 39, 4, 172, 4536, 1111, 17, 546, 38, 13, 447, 4, 192, 50, 16, 6, 147, 2025, 19, 14, 22, 4, 1920, 4613, 469, 4, 22, 71, 87, 12, 16, 43, 530, 38, 76, 15, 13, 1247, 4, 22, 17, 515, 17, 12, 16, 626, 18, 2, 5, 62, 386, 12, 8, 316, 8, 106, 5, 4, 2223, 5244, 16, 480, 66, 3785, 33, 4, 130, 12, 16, 38, 619, 5, 25, 124, 51, 36, 135, 48, 25, 1415, 33, 6, 22, 12, 215, 28, 77, 52, 5, 14, 407, 16, 82, 2, 8, 4, 107, 117, 5952, 15, 256, 4, 2, 7, 3766, 5, 723, 36, 71, 43, 530, 476, 26, 400, 317, 46, 7, 4, 2, 1029, 13, 104, 88, 4, 381, 15, 297, 98, 32, 2071, 56, 26, 141, 6, 194, 7486, 18, 4, 226, 22, 21, 134, 476, 26, 480, 5, 144, 30, 5535, 18, 51, 36, 28, 224, 92, 25, 104, 4, 226, 65, 16, 38, 1334, 88, 12, 16, 283, 5, 16, 4472, 113, 103, 32, 15, 16, 5345, 19, 178, 32]\n"
     ]
    }
   ],
   "source": [
    "print(train_data[0])"
   ]
  },
  {
   "cell_type": "code",
   "execution_count": 5,
   "metadata": {},
   "outputs": [],
   "source": [
    "word_index = imdb.get_word_index('/home/ycli/code/tensorflow_notes/offical tutorials/datasets/imdb/imdb_word_index.json')"
   ]
  },
  {
   "cell_type": "code",
   "execution_count": 6,
   "metadata": {},
   "outputs": [],
   "source": [
    "word_index = {k:(v+3) for k,v in word_index.items()}\n",
    "word_index[\"<PAD>\"] = 0\n",
    "word_index[\"<START>\"] = 1\n",
    "word_index[\"<UNK>\"] = 2  # unknown\n",
    "word_index[\"<UNUSED>\"] = 3"
   ]
  },
  {
   "cell_type": "code",
   "execution_count": 7,
   "metadata": {},
   "outputs": [],
   "source": [
    "reverse_word_index = dict([(value, key) for (key, value) in word_index.items()])"
   ]
  },
  {
   "cell_type": "code",
   "execution_count": 8,
   "metadata": {},
   "outputs": [],
   "source": [
    "def decode_review(text):\n",
    "    return ' '.join([reverse_word_index.get(i, \"?\") for i in text])"
   ]
  },
  {
   "cell_type": "code",
   "execution_count": 9,
   "metadata": {},
   "outputs": [
    {
     "name": "stdout",
     "output_type": "stream",
     "text": [
      "<START> this film was just brilliant casting location scenery story direction everyone's really suited the part they played and you could just imagine being there robert <UNK> is an amazing actor and now the same being director <UNK> father came from the same scottish island as myself so i loved the fact there was a real connection with this film the witty remarks throughout the film were great it was just brilliant so much that i bought the film as soon as it was released for <UNK> and would recommend it to everyone to watch and the fly fishing was amazing really cried at the end it was so sad and you know what they say if you cry at a film it must have been good and this definitely was also <UNK> to the two little boy's that played the <UNK> of norman and paul they were just brilliant children are often left out of the <UNK> list i think because the stars that play them all grown up are such a big profile for the whole film but these children are amazing and should be praised for what they have done don't you think the whole story was so lovely because it was true and was someone's life after all that was shared with us all\n"
     ]
    }
   ],
   "source": [
    "print(decode_review(train_data[0]))"
   ]
  },
  {
   "cell_type": "code",
   "execution_count": 10,
   "metadata": {},
   "outputs": [],
   "source": [
    "train_data = keras.preprocessing.sequence.pad_sequences(train_data, value=word_index[\"<PAD>\"], padding='post', maxlen=256)\n",
    "test_data = keras.preprocessing.sequence.pad_sequences(test_data, value=word_index['<PAD>'], padding='post', maxlen=256)"
   ]
  },
  {
   "cell_type": "code",
   "execution_count": 11,
   "metadata": {},
   "outputs": [
    {
     "data": {
      "text/plain": [
       "(25000, 256)"
      ]
     },
     "execution_count": 11,
     "metadata": {},
     "output_type": "execute_result"
    }
   ],
   "source": [
    "train_data.shape"
   ]
  },
  {
   "cell_type": "code",
   "execution_count": 13,
   "metadata": {},
   "outputs": [
    {
     "data": {
      "text/plain": [
       "(256,)"
      ]
     },
     "execution_count": 13,
     "metadata": {},
     "output_type": "execute_result"
    }
   ],
   "source": [
    "train_data[0].shape"
   ]
  },
  {
   "cell_type": "code",
   "execution_count": 14,
   "metadata": {},
   "outputs": [
    {
     "name": "stdout",
     "output_type": "stream",
     "text": [
      "_________________________________________________________________\n",
      "Layer (type)                 Output Shape              Param #   \n",
      "=================================================================\n",
      "embedding (Embedding)        (None, None, 16)          160000    \n",
      "_________________________________________________________________\n",
      "global_average_pooling1d (Gl (None, 16)                0         \n",
      "_________________________________________________________________\n",
      "dense (Dense)                (None, 16)                272       \n",
      "_________________________________________________________________\n",
      "dense_1 (Dense)              (None, 1)                 17        \n",
      "=================================================================\n",
      "Total params: 160,289\n",
      "Trainable params: 160,289\n",
      "Non-trainable params: 0\n",
      "_________________________________________________________________\n"
     ]
    }
   ],
   "source": [
    "vocab_size = 10000\n",
    "\n",
    "model = keras.Sequential()\n",
    "model.add(keras.layers.Embedding(vocab_size, 16))\n",
    "model.add(keras.layers.GlobalAveragePooling1D())\n",
    "model.add(keras.layers.Dense(16, activation=tf.nn.relu))\n",
    "model.add(keras.layers.Dense(1, activation=tf.nn.sigmoid))\n",
    "\n",
    "model.summary()"
   ]
  },
  {
   "cell_type": "code",
   "execution_count": 15,
   "metadata": {},
   "outputs": [],
   "source": [
    "model.compile(optimizer=tf.train.AdamOptimizer(), loss=\"binary_crossentropy\", metrics=['accuracy'])"
   ]
  },
  {
   "cell_type": "code",
   "execution_count": 16,
   "metadata": {},
   "outputs": [],
   "source": [
    "x_val = train_data[:10000]\n",
    "partial_x_train = train_data[10000:]\n",
    "\n",
    "y_val = train_labels[:10000]\n",
    "partial_y_train = train_labels[10000:]\n"
   ]
  },
  {
   "cell_type": "code",
   "execution_count": 17,
   "metadata": {},
   "outputs": [
    {
     "name": "stdout",
     "output_type": "stream",
     "text": [
      "Train on 15000 samples, validate on 10000 samples\n",
      "Epoch 1/40\n",
      "15000/15000 [==============================] - 16s 1ms/step - loss: 0.6913 - acc: 0.5751 - val_loss: 0.6887 - val_acc: 0.5896\n",
      "Epoch 2/40\n",
      "15000/15000 [==============================] - 1s 47us/step - loss: 0.6839 - acc: 0.6911 - val_loss: 0.6795 - val_acc: 0.7490\n",
      "Epoch 3/40\n",
      "15000/15000 [==============================] - 1s 46us/step - loss: 0.6704 - acc: 0.7525 - val_loss: 0.6634 - val_acc: 0.7451\n",
      "Epoch 4/40\n",
      "15000/15000 [==============================] - 1s 47us/step - loss: 0.6481 - acc: 0.7718 - val_loss: 0.6394 - val_acc: 0.7524\n",
      "Epoch 5/40\n",
      "15000/15000 [==============================] - 1s 47us/step - loss: 0.6167 - acc: 0.7894 - val_loss: 0.6064 - val_acc: 0.7849\n",
      "Epoch 6/40\n",
      "15000/15000 [==============================] - 1s 46us/step - loss: 0.5777 - acc: 0.8111 - val_loss: 0.5687 - val_acc: 0.8074\n",
      "Epoch 7/40\n",
      "15000/15000 [==============================] - 1s 47us/step - loss: 0.5332 - acc: 0.8311 - val_loss: 0.5269 - val_acc: 0.8218\n",
      "Epoch 8/40\n",
      "15000/15000 [==============================] - 1s 47us/step - loss: 0.4869 - acc: 0.8491 - val_loss: 0.4862 - val_acc: 0.8334\n",
      "Epoch 9/40\n",
      "15000/15000 [==============================] - 1s 47us/step - loss: 0.4439 - acc: 0.8595 - val_loss: 0.4498 - val_acc: 0.8438\n",
      "Epoch 10/40\n",
      "15000/15000 [==============================] - 1s 47us/step - loss: 0.4052 - acc: 0.8739 - val_loss: 0.4190 - val_acc: 0.8504\n",
      "Epoch 11/40\n",
      "15000/15000 [==============================] - 1s 47us/step - loss: 0.3722 - acc: 0.8829 - val_loss: 0.3957 - val_acc: 0.8544\n",
      "Epoch 12/40\n",
      "15000/15000 [==============================] - 1s 48us/step - loss: 0.3445 - acc: 0.8879 - val_loss: 0.3723 - val_acc: 0.8635\n",
      "Epoch 13/40\n",
      "15000/15000 [==============================] - 1s 46us/step - loss: 0.3194 - acc: 0.8954 - val_loss: 0.3562 - val_acc: 0.8685\n",
      "Epoch 14/40\n",
      "15000/15000 [==============================] - 1s 48us/step - loss: 0.2986 - acc: 0.9016 - val_loss: 0.3415 - val_acc: 0.8713\n",
      "Epoch 15/40\n",
      "15000/15000 [==============================] - 1s 47us/step - loss: 0.2806 - acc: 0.9061 - val_loss: 0.3303 - val_acc: 0.8748\n",
      "Epoch 16/40\n",
      "15000/15000 [==============================] - 1s 47us/step - loss: 0.2652 - acc: 0.9101 - val_loss: 0.3210 - val_acc: 0.8774\n",
      "Epoch 17/40\n",
      "15000/15000 [==============================] - 1s 47us/step - loss: 0.2504 - acc: 0.9158 - val_loss: 0.3135 - val_acc: 0.8774\n",
      "Epoch 18/40\n",
      "15000/15000 [==============================] - 1s 47us/step - loss: 0.2376 - acc: 0.9205 - val_loss: 0.3071 - val_acc: 0.8808\n",
      "Epoch 19/40\n",
      "15000/15000 [==============================] - 1s 47us/step - loss: 0.2258 - acc: 0.9249 - val_loss: 0.3018 - val_acc: 0.8817\n",
      "Epoch 20/40\n",
      "15000/15000 [==============================] - 1s 47us/step - loss: 0.2154 - acc: 0.9273 - val_loss: 0.2976 - val_acc: 0.8828\n",
      "Epoch 21/40\n",
      "15000/15000 [==============================] - 1s 47us/step - loss: 0.2052 - acc: 0.9313 - val_loss: 0.2942 - val_acc: 0.8833\n",
      "Epoch 22/40\n",
      "15000/15000 [==============================] - 1s 47us/step - loss: 0.1960 - acc: 0.9350 - val_loss: 0.2916 - val_acc: 0.8846\n",
      "Epoch 23/40\n",
      "15000/15000 [==============================] - 1s 49us/step - loss: 0.1876 - acc: 0.9384 - val_loss: 0.2902 - val_acc: 0.8840\n",
      "Epoch 24/40\n",
      "15000/15000 [==============================] - 1s 47us/step - loss: 0.1791 - acc: 0.9427 - val_loss: 0.2878 - val_acc: 0.8849\n",
      "Epoch 25/40\n",
      "15000/15000 [==============================] - 1s 47us/step - loss: 0.1717 - acc: 0.9455 - val_loss: 0.2865 - val_acc: 0.8857\n",
      "Epoch 26/40\n",
      "15000/15000 [==============================] - 1s 48us/step - loss: 0.1643 - acc: 0.9477 - val_loss: 0.2864 - val_acc: 0.8854\n",
      "Epoch 27/40\n",
      "15000/15000 [==============================] - 1s 48us/step - loss: 0.1582 - acc: 0.9515 - val_loss: 0.2863 - val_acc: 0.8862\n",
      "Epoch 28/40\n",
      "15000/15000 [==============================] - 1s 48us/step - loss: 0.1516 - acc: 0.9539 - val_loss: 0.2860 - val_acc: 0.8866\n",
      "Epoch 29/40\n",
      "15000/15000 [==============================] - 1s 48us/step - loss: 0.1457 - acc: 0.9554 - val_loss: 0.2860 - val_acc: 0.8865\n",
      "Epoch 30/40\n",
      "15000/15000 [==============================] - 1s 50us/step - loss: 0.1404 - acc: 0.9577 - val_loss: 0.2869 - val_acc: 0.8860\n",
      "Epoch 31/40\n",
      "15000/15000 [==============================] - 1s 50us/step - loss: 0.1343 - acc: 0.9607 - val_loss: 0.2882 - val_acc: 0.8864\n",
      "Epoch 32/40\n",
      "15000/15000 [==============================] - 1s 47us/step - loss: 0.1295 - acc: 0.9623 - val_loss: 0.2898 - val_acc: 0.8863\n",
      "Epoch 33/40\n",
      "15000/15000 [==============================] - 1s 48us/step - loss: 0.1239 - acc: 0.9652 - val_loss: 0.2915 - val_acc: 0.8862\n",
      "Epoch 34/40\n",
      "15000/15000 [==============================] - 1s 46us/step - loss: 0.1193 - acc: 0.9670 - val_loss: 0.2933 - val_acc: 0.8865\n",
      "Epoch 35/40\n",
      "15000/15000 [==============================] - 1s 48us/step - loss: 0.1152 - acc: 0.9674 - val_loss: 0.2948 - val_acc: 0.8868\n",
      "Epoch 36/40\n",
      "15000/15000 [==============================] - 1s 48us/step - loss: 0.1102 - acc: 0.9701 - val_loss: 0.2975 - val_acc: 0.8861\n",
      "Epoch 37/40\n",
      "15000/15000 [==============================] - 1s 48us/step - loss: 0.1062 - acc: 0.9712 - val_loss: 0.2999 - val_acc: 0.8857\n",
      "Epoch 38/40\n",
      "15000/15000 [==============================] - 1s 49us/step - loss: 0.1027 - acc: 0.9718 - val_loss: 0.3027 - val_acc: 0.8842\n",
      "Epoch 39/40\n",
      "15000/15000 [==============================] - 1s 48us/step - loss: 0.0982 - acc: 0.9737 - val_loss: 0.3052 - val_acc: 0.8844\n",
      "Epoch 40/40\n",
      "15000/15000 [==============================] - 1s 50us/step - loss: 0.0944 - acc: 0.9757 - val_loss: 0.3080 - val_acc: 0.8837\n"
     ]
    }
   ],
   "source": [
    "history = model.fit(partial_x_train, partial_y_train, epochs=40, batch_size=512, validation_data=(x_val, y_val), verbose=1)"
   ]
  },
  {
   "cell_type": "code",
   "execution_count": 18,
   "metadata": {},
   "outputs": [
    {
     "name": "stdout",
     "output_type": "stream",
     "text": [
      "25000/25000 [==============================] - 2s 68us/step\n",
      "[0.32810959389686584, 0.87251999999999996]\n"
     ]
    }
   ],
   "source": [
    "results = model.evaluate(test_data, test_labels)\n",
    "\n",
    "print(results)"
   ]
  },
  {
   "cell_type": "code",
   "execution_count": 19,
   "metadata": {},
   "outputs": [
    {
     "data": {
      "text/plain": [
       "dict_keys(['val_loss', 'val_acc', 'loss', 'acc'])"
      ]
     },
     "execution_count": 19,
     "metadata": {},
     "output_type": "execute_result"
    }
   ],
   "source": [
    "history_dict = history.history\n",
    "history_dict.keys()"
   ]
  },
  {
   "cell_type": "code",
   "execution_count": 21,
   "metadata": {},
   "outputs": [
    {
     "data": {
      "image/png": "[encoded data removed]",
      "text/plain": [
       "<Figure size 432x288 with 1 Axes>"
      ]
     },
     "metadata": {},
     "output_type": "display_data"
    }
   ],
   "source": [
    "acc = history_dict['acc']\n",
    "val_acc = history_dict['val_acc']\n",
    "loss = history_dict['loss']\n",
    "val_loss = history_dict['val_loss']\n",
    "\n",
    "epochs = range(1, len(acc) + 1)\n",
    "\n",
    "# \"bo\" is for \"blue dot\"\n",
    "plt.plot(epochs, loss, 'bo', label='Training loss')\n",
    "# b is for \"solid blue line\"\n",
    "plt.plot(epochs, val_loss, 'b', label='Validation loss')\n",
    "plt.title('Training and validation loss')\n",
    "plt.xlabel('Epochs')\n",
    "plt.ylabel('Loss')\n",
    "plt.legend()\n",
    "\n",
    "plt.show()"
   ]
  },
  {
   "cell_type": "code",
   "execution_count": 22,
   "metadata": {},
   "outputs": [
    {
     "data": {
      "image/png": "[encoded data removed]",
      "text/plain": [
       "<Figure size 432x288 with 1 Axes>"
      ]
     },
     "metadata": {},
     "output_type": "display_data"
    }
   ],
   "source": [
    "acc_values = history_dict['acc']\n",
    "val_acc_values = history_dict['val_acc']\n",
    "\n",
    "plt.plot(epochs, acc, 'bo', label='Training acc')\n",
    "plt.plot(epochs, val_acc, 'b', label='Validation acc')\n",
    "plt.title('Training and validation accuracy')\n",
    "plt.xlabel('Epochs')\n",
    "plt.ylabel('Accuracy')\n",
    "plt.legend()\n",
    "\n",
    "plt.show()\n"
   ]
  },
  {
   "cell_type": "code",
   "execution_count": null,
   "metadata": {},
   "outputs": [],
   "source": []
  }
 ],
 "metadata": {
  "kernelspec": {
   "display_name": "Python 3",
   "language": "python",
   "name": "python3"
  },
  "language_info": {
   "codemirror_mode": {
    "name": "ipython",
    "version": 3
   },
   "file_extension": ".py",
   "mimetype": "text/x-python",
   "name": "python",
   "nbconvert_exporter": "python",
   "pygments_lexer": "ipython3",
   "version": "3.6.6"
  }
 },
 "nbformat": 4,
 "nbformat_minor": 2
}
